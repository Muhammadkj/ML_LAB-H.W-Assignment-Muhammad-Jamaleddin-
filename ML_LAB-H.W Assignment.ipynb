{
 "cells": [
  {
   "cell_type": "code",
   "execution_count": null,
   "id": "8e39700d-c1e0-4364-aae8-7eff7eee1c14",
   "metadata": {},
   "outputs": [],
   "source": [
    "import pandas as pd\n",
    "\n",
    "gender_submission = pd.read_csv('gender_submission.csv')\n",
    "test_data = pd.read_csv('test.csv')\n",
    "train_data = pd.read_csv('train.csv')"
   ]
  },
  {
   "cell_type": "code",
   "execution_count": null,
   "id": "d3ab155d-e3eb-4241-8d57-42b1da47c96c",
   "metadata": {},
   "outputs": [],
   "source": [
    "train_data.dropna(inplace=True)\n",
    "test_data.dropna(inplace=True)"
   ]
  },
  {
   "cell_type": "code",
   "execution_count": null,
   "id": "b9b5f0db-d4bc-412b-8968-16668623c1a7",
   "metadata": {},
   "outputs": [],
   "source": [
    "from sklearn.preprocessing import StandardScaler\n",
    "\n",
    "numerical_cols = ['Age', 'Fare']\n",
    "\n",
    "scaler = StandardScaler()\n",
    "\n",
    "train_data[numerical_cols] = scaler.fit_transform(train_data[numerical_cols])\n",
    "test_data[numerical_cols] = scaler.transform(test_data[numerical_cols])"
   ]
  },
  {
   "cell_type": "code",
   "execution_count": null,
   "id": "6e35cb2f-fe73-4e9e-a7bc-0215c02d2d9c",
   "metadata": {},
   "outputs": [],
   "source": [
    "train_data.drop_duplicates(inplace=True)\n",
    "test_data.drop_duplicates(inplace=True)"
   ]
  },
  {
   "cell_type": "code",
   "execution_count": null,
   "id": "45c87470-9c90-4a29-b3ad-09e1559e470d",
   "metadata": {},
   "outputs": [],
   "source": [
    "categorical_cols = ['Name','Sex','Ticket','Cabin','Embarked']\n",
    "\n",
    "train_data = pd.get_dummies(train_data, columns=categorical_cols)\n",
    "test_data = pd.get_dummies(test_data, columns=categorical_cols)"
   ]
  },
  {
   "cell_type": "code",
   "execution_count": null,
   "id": "aa802214-b652-4b99-bbe2-33343494c09b",
   "metadata": {},
   "outputs": [],
   "source": [
    "from sklearn.linear_model import LogisticRegression\n",
    "from sklearn.ensemble import RandomForestClassifier\n",
    "from sklearn.metrics import precision_score, recall_score\n",
    "from sklearn.model_selection import train_test_split\n",
    "\n",
    "# Assuming 'Survived' is the target variable\n",
    "X_train = train_data.drop(columns=['Survived'])\n",
    "y_train = train_data['Survived']\n",
    "\n",
    "X_test = test_data.drop(columns=['PassengerId'])  # Adjust according to your dataset\n",
    "\n",
    "# Split the data into training and validation sets\n",
    "X_train, X_val, y_train, y_val = train_test_split(X_train, y_train, test_size=0.2, random_state=42)\n",
    "\n",
    "# Initialize models\n",
    "logreg = LogisticRegression(max_iter=1000)\n",
    "rf = RandomForestClassifier()\n",
    "\n",
    "# Train models\n",
    "logreg.fit(X_train, y_train)\n",
    "rf.fit(X_train, y_train)\n",
    "\n",
    "# Predict on validation set\n",
    "y_pred_logreg = logreg.predict(X_val)\n",
    "y_pred_rf = rf.predict(X_val)\n",
    "\n",
    "# Evaluate models\n",
    "precision_logreg = precision_score(y_val, y_pred_logreg)\n",
    "recall_logreg = recall_score(y_val, y_pred_logreg)\n",
    "\n",
    "precision_rf = precision_score(y_val, y_pred_rf)\n",
    "recall_rf = recall_score(y_val, y_pred_rf)\n",
    "\n",
    "print(f\"Logistic Regression - Precision: {precision_logreg}, Recall: {recall_logreg}\")\n",
    "print(f\"Random Forest - Precision: {precision_rf}, Recall: {recall_rf}\")\n"
   ]
  }
 ],
 "metadata": {
  "kernelspec": {
   "display_name": "Python 3 (ipykernel)",
   "language": "python",
   "name": "python3"
  },
  "language_info": {
   "codemirror_mode": {
    "name": "ipython",
    "version": 3
   },
   "file_extension": ".py",
   "mimetype": "text/x-python",
   "name": "python",
   "nbconvert_exporter": "python",
   "pygments_lexer": "ipython3",
   "version": "3.11.7"
  }
 },
 "nbformat": 4,
 "nbformat_minor": 5
}
